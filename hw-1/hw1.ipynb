{
 "cells": [
  {
   "cell_type": "markdown",
   "metadata": {},
   "source": [
    "# <center> Homework 1 </center>"
   ]
  },
  {
   "cell_type": "markdown",
   "metadata": {},
   "source": [
    "# 0. Где мы сейчас?\n",
    "<img src=\"https://upload.wikimedia.org/wikipedia/commons/thumb/3/38/Jupyter_logo.svg/1200px-Jupyter_logo.svg.png\" width=\"150\">\n",
    "\n",
    "[Jupyter Notebook](https://jupyter.org/) - интерактивная среда для запуска программного кода в браузере. Удобный инструмент для анализа данных, который используется многими специалистами по data science. Позволяет выполнять отдельные ячейки с кодом, а не всю программу сразу, что очень удобно при знакомстве с данными."
   ]
  },
  {
   "cell_type": "markdown",
   "metadata": {},
   "source": [
    "# 1. Python\n",
    "> Python - это свободный интерпретируемый объектно-ориентированный расширяемый встраиваемый язык программирования очень высокого уровня \n",
    "\n",
    ">*(Г.Россум, Ф.Л.Дж.Дрейк, Д.С.Откидач \"Язык программирования Python\").*\n",
    "\n",
    "А если без цитат, то питон - это просто очень крутой язык, созданный в 1991 году [Великодушным пожизненным диктатором](https://ru.wikipedia.org/wiki/%D0%92%D0%B5%D0%BB%D0%B8%D0%BA%D0%BE%D0%B4%D1%83%D1%88%D0%BD%D1%8B%D0%B9_%D0%BF%D0%BE%D0%B6%D0%B8%D0%B7%D0%BD%D0%B5%D0%BD%D0%BD%D1%8B%D0%B9_%D0%B4%D0%B8%D0%BA%D1%82%D0%B0%D1%82%D0%BE%D1%80) Гвидо ван Россумом и названный в честь любимого им шоу [Monty Python's Flying Circus](https://en.wikipedia.org/wiki/Monty_Python%27s_Flying_Circus)\n",
    "\n",
    "<img src=\"https://advancelocal-adapter-image-uploads.s3.amazonaws.com/image.oregonlive.com/home/olive-media/width2048/img/tv/photo/2018/10/10/montycastjpg-7ef393e2355a42aa.jpg\" width=\"300\">"
   ]
  },
  {
   "cell_type": "markdown",
   "metadata": {},
   "source": [
    "# 2. Anaconda\n",
    "\n",
    "<img src=\"https://cdn-images-1.medium.com/max/1600/0*MVkCW8_Bmj-nuAnI.png\" width=\"300\">\n",
    "\n",
    "[Сборка Anaconda](https://www.anaconda.com/products/individual) включает очень много полезных библиотек для анализа данных. \n",
    "\n",
    "Среди наиболее популярных библиотек:\n",
    " - <a href=\"http://numpy.org\">Numpy</a> - это один из основных пакетов для математических вычислений. Он содержит средства для работы с многомерными массивами и высокоуровневыми математическими функциями\n",
    " - <a href=\"https://www.scipy.org/\">SciPy</a> - научные вычисления. Методы оптимизации, интегрирования, модули обработки сигналов и изображений, статистика, линейная алгебра, сплайны, кластеризация и многое другое\n",
    " -  <a href=\"http://pandas.pydata.org/\">Pandas</a> - основная библиотека для обработки и анализа данных. Предназначена для данных разной природы - матричных, панельных данных, временных рядов. Претендует на звание самого мощного и гибкого средства для анализа данных с открытым исходным кодом\n",
    " - <a href=\"http://scikit-learn.org/stable/\">Scikit-learn</a> - реализация очень многих методов машинного обучения с отличной документацией. \n",
    " - <a href=\"http://http://matplotlib.org/\">matplotlib</a> - хорошая библиотека для визуализации данных"
   ]
  },
  {
   "cell_type": "markdown",
   "metadata": {},
   "source": [
    "# 3. Задачки"
   ]
  },
  {
   "cell_type": "markdown",
   "metadata": {},
   "source": [
    "## Задача 1\n",
    "$N$ хоббитов делят $K$ кусков эльфийского хлеба поровну, не делящийся нацело остаток остается в корзинке у Сэма. Напишите функцию, которая принимает на вход параметры $N$ и $K$ и возвращает два числа: $x$ - cколько кусков эльфиского хлеба достанется каждому хоббиту, и $y$ - сколько кусков остаётся в корзинке."
   ]
  },
  {
   "cell_type": "code",
   "execution_count": 65,
   "metadata": {},
   "outputs": [],
   "source": [
    "def share_bread(N, K):\n",
    "    x = K // N\n",
    "    y = K % N\n",
    "    return x, y\n",
    "\n",
    "# если в функции всё верно, то после выполнения этой строчки, не должно выскакивать ошибок\n",
    "assert share_bread(N=3, K=14) == (4, 2)"
   ]
  },
  {
   "cell_type": "markdown",
   "metadata": {},
   "source": [
    "## Задача 2\n",
    "\n",
    "В копях Мории хоббиты нашли стену, на которой высечены разные натуральные числа. Согласно древним сказаниям, это даты сражений. Хоббиты знают, что сражения происходили только по високосным годам. Помогите хоббитам определить, является ли год с данным числом датой великого сражения. Если это так, то верните строку \"YOU SHALL PASS\", иначе верните \"YOU SHALL NOT PASS\". Напомним, что в соответствии с хоббитским календарем, год является високосным, если его номер кратен 4, но не кратен 100, а также если он кратен 400."
   ]
  },
  {
   "cell_type": "code",
   "execution_count": 66,
   "metadata": {},
   "outputs": [],
   "source": [
    "def leap_year(year):\n",
    "    if(year % 4 == 0 and year % 100 != 0):\n",
    "        text_result = \"YOU SHALL PASS\"\n",
    "    elif(year % 400 == 0):\n",
    "        text_result = \"YOU SHALL PASS\"\n",
    "    else:\n",
    "        text_result = \"YOU SHALL NOT PASS\"\n",
    "    return text_result\n",
    "\n",
    "assert leap_year(5) == 'YOU SHALL NOT PASS'"
   ]
  },
  {
   "cell_type": "markdown",
   "metadata": {},
   "source": [
    "## Задача 3\n",
    "Для могущественного магического ритуала Гендальфу необходимо быстро подсчитывать площадь своего амулета, который умеет менять размеры. Известно, что амулет имеет форму треугольника и Гендальф знает длину каждой из сторон. Напишите функцию, которая считает площадь амулета по трем сторонам.  \n",
    "\n",
    "Подсказка: используйте формулу Герона\n",
    "$$ S = \\sqrt{p(p-a)(p-b)(p-c)} $$\n",
    "$$ p = \\frac{a + b + c}{2}$$\n"
   ]
  },
  {
   "cell_type": "code",
   "execution_count": 69,
   "metadata": {},
   "outputs": [],
   "source": [
    "import math\n",
    "\n",
    "def amulet_area(a, b, c):\n",
    "    p = (a + b + c) / 2\n",
    "    S = math.sqrt(p * (p - a) * (p - b) * (p - c))\n",
    "    return S\n",
    "\n",
    "assert amulet_area(3, 4, 5) == 6"
   ]
  },
  {
   "cell_type": "markdown",
   "metadata": {},
   "source": [
    "## Задача 4\n",
    "\n",
    "Хоббиты собираются пешком идти до Мордора и им нужно подсчитать расстояние, которое им предстоит пройти. Хоббиты смогли вспомнить сразу несколько метрик расстояния: евклидово, манхэттена и косинусное, так что ваша задача - напистаь функцию под каждую из них. Важное условие - используйте только базовые функции numpy для решения.\n",
    "\n",
    "\n",
    "* Евклидово расстояние\n",
    "$$ d(a, b) = \\sqrt{\\sum_i (a_i - b_i)^2} $$\n",
    "* Расстояние Манхэттена\n",
    "$$ d(a, b) = \\sum_i |a_i - b_i| $$\n",
    "* Косинусное расстояние\n",
    "$$ d(a, b) = 1 - \\frac{a^\\top b}{||a||_2\\cdot||b||_2}$$"
   ]
  },
  {
   "cell_type": "code",
   "execution_count": 70,
   "metadata": {},
   "outputs": [],
   "source": [
    "import numpy as np\n",
    "from numpy.linalg import norm\n",
    "\n",
    "def cal_euclidean(a, b):  \n",
    "    return np.sqrt(np.sum(np.power(np.subtract(a, b), 2)))\n",
    "\n",
    "def cal_manhattan(a, b):    \n",
    "    return np.sum(np.absolute(np.subtract(a, b)))\n",
    "\n",
    "def cal_cosine(a, b):    \n",
    "    return np.dot(a, b)/(norm(a)*norm(b))"
   ]
  },
  {
   "cell_type": "code",
   "execution_count": 71,
   "metadata": {},
   "outputs": [
    {
     "name": "stdout",
     "output_type": "stream",
     "text": [
      "[  8   3   6   6  -9   5   4  -4  -5 -10] [  6  -4   4   5  -9   8   3   3  -3 -10]\n",
      "11.0\n",
      "25\n",
      "0.8447750647472984\n"
     ]
    }
   ],
   "source": [
    "a = np.random.randint(-10, 10, size=10)\n",
    "b = np.random.randint(-10, 10, size=10)\n",
    "\n",
    "print(a, b)\n",
    "\n",
    "print(cal_euclidean(a, b))\n",
    "print(cal_manhattan(a, b))\n",
    "print(cal_cosine(a, b))"
   ]
  },
  {
   "cell_type": "markdown",
   "metadata": {},
   "source": [
    "## Задача 5\n",
    "\n",
    "Ну и напоследок, еще немного практики numpy, без которой не обходится ни один хоббит.\n"
   ]
  },
  {
   "cell_type": "markdown",
   "metadata": {},
   "source": [
    "Создайте случайный array (`np.random.rand()`) длинной 100. Преобразуйте его так, чтобы\n",
    "* Максимальный элемент(ы) был равен 1\n",
    "* Минимальный элемент(ы) был равен 0\n",
    "* Остальные элементы в итнтервале от 0 до 1 остаются прежними"
   ]
  },
  {
   "cell_type": "code",
   "execution_count": 72,
   "metadata": {},
   "outputs": [
    {
     "name": "stdout",
     "output_type": "stream",
     "text": [
      "1.0 0.0\n",
      "[0.80840384 0.87024133 0.28589845 0.78727418 0.47566937 0.13785954\n",
      " 0.16692951 0.37977324 0.29861393 0.24865077 0.82435523 0.07152298\n",
      " 0.60051739 0.56762187 0.61022719 0.94913093 0.77083215 0.91459929\n",
      " 0.24276095 0.85593871 0.04133725 0.28119211 0.07213941 0.31384177\n",
      " 0.62055531 0.52628868 0.31554488 0.91618419 0.03378527 0.18258672\n",
      " 0.06292797 0.52668674 0.37803426 0.46174756 0.03184396 0.30165215\n",
      " 0.90261423 0.83783997 0.38239245 0.83910181 0.06461005 0.26210496\n",
      " 0.63726045 0.92291094 0.65468571 0.06140938 0.0666175  0.69120002\n",
      " 0.23963436 0.62560083 0.19589924 0.55643233 0.8181549  0.58793063\n",
      " 0.56976277 0.310647   0.64606604 0.16675272 1.         0.43665933\n",
      " 0.11265307 0.03039213 0.7620035  0.16969417 0.87112202 0.55878073\n",
      " 0.87901337 0.14745403 0.20657048 0.47225838 0.8223493  0.67741406\n",
      " 0.72235699 0.87239298 0.82912693 0.48543634 0.06346983 0.52185734\n",
      " 0.2829098  0.         0.27701703 0.37059928 0.24281205 0.18508568\n",
      " 0.88734658 0.94536963 0.85719981 0.13624765 0.22619669 0.39321303\n",
      " 0.66408722 0.21679249 0.72412873 0.24511255 0.21368029 0.68990228\n",
      " 0.31046419 0.72044812 0.56126827 0.02259132]\n"
     ]
    }
   ],
   "source": [
    "my_array = np.random.rand(100)\n",
    "my_array[np.where(my_array == np.max(my_array))] = 1\n",
    "my_array[np.where(my_array == np.min(my_array))] = 0\n",
    "\n",
    "print(np.max(my_array), np.min(my_array))\n",
    "print(my_array)"
   ]
  },
  {
   "cell_type": "markdown",
   "metadata": {},
   "source": [
    "Создайте array размером $5 \\times 6$ с целыми числами в интервале [0,50]. Напечатайте колонку, которая содержит максимальный элемент полученной матрицы "
   ]
  },
  {
   "cell_type": "code",
   "execution_count": 73,
   "metadata": {},
   "outputs": [
    {
     "name": "stdout",
     "output_type": "stream",
     "text": [
      "Shape:  (5, 6)\n",
      "Array\n",
      "[[27 45 28 18 14 24]\n",
      " [26 18 17 15 39 19]\n",
      " [ 5  1 14  9 17 14]\n",
      " [19 15 31 27 46 40]\n",
      " [23 14 15 13 18 29]]\n",
      "Column\n",
      "[45 39 17 46 29]\n"
     ]
    }
   ],
   "source": [
    "my_array = np.random.randint(0, 50, size=(5, 6) , dtype=int)\n",
    "print('Shape: ',my_array.shape)\n",
    "print('Array')\n",
    "print(my_array)\n",
    "\n",
    "selected_column = my_array.max(1)\n",
    "print('Column')\n",
    "print(selected_column)"
   ]
  },
  {
   "cell_type": "markdown",
   "metadata": {},
   "source": [
    "Напишите функцию, которая принимает на вохд матрицу (array) X и возвращает все её уникальные строки в виде новой матрицы."
   ]
  },
  {
   "cell_type": "code",
   "execution_count": 77,
   "metadata": {},
   "outputs": [],
   "source": [
    "def get_unique_rows(X):\n",
    "    return np.unique(X, axis=0)"
   ]
  },
  {
   "cell_type": "code",
   "execution_count": 78,
   "metadata": {},
   "outputs": [
    {
     "name": "stdout",
     "output_type": "stream",
     "text": [
      "[[5 4 4]\n",
      " [5 4 4]\n",
      " [5 4 4]\n",
      " [5 5 4]\n",
      " [4 5 4]\n",
      " [5 4 5]\n",
      " [4 4 4]\n",
      " [5 4 5]\n",
      " [5 4 4]\n",
      " [5 4 4]]\n"
     ]
    }
   ],
   "source": [
    "X = np.random.randint(4, 6, size=(10,3))\n",
    "print(X)"
   ]
  },
  {
   "cell_type": "code",
   "execution_count": 79,
   "metadata": {},
   "outputs": [
    {
     "data": {
      "text/plain": [
       "array([[4, 4, 4],\n",
       "       [4, 5, 4],\n",
       "       [5, 4, 4],\n",
       "       [5, 4, 5],\n",
       "       [5, 5, 4]])"
      ]
     },
     "execution_count": 79,
     "metadata": {},
     "output_type": "execute_result"
    }
   ],
   "source": [
    "get_unique_rows(X)"
   ]
  },
  {
   "cell_type": "code",
   "execution_count": null,
   "metadata": {},
   "outputs": [],
   "source": []
  }
 ],
 "metadata": {
  "kernelspec": {
   "display_name": "Python 3 (ipykernel)",
   "language": "python",
   "name": "python3"
  },
  "language_info": {
   "codemirror_mode": {
    "name": "ipython",
    "version": 3
   },
   "file_extension": ".py",
   "mimetype": "text/x-python",
   "name": "python",
   "nbconvert_exporter": "python",
   "pygments_lexer": "ipython3",
   "version": "3.10.10"
  },
  "varInspector": {
   "cols": {
    "lenName": 16,
    "lenType": 16,
    "lenVar": 40
   },
   "kernels_config": {
    "python": {
     "delete_cmd_postfix": "",
     "delete_cmd_prefix": "del ",
     "library": "var_list.py",
     "varRefreshCmd": "print(var_dic_list())"
    },
    "r": {
     "delete_cmd_postfix": ") ",
     "delete_cmd_prefix": "rm(",
     "library": "var_list.r",
     "varRefreshCmd": "cat(var_dic_list()) "
    }
   },
   "types_to_exclude": [
    "module",
    "function",
    "builtin_function_or_method",
    "instance",
    "_Feature"
   ],
   "window_display": false
  }
 },
 "nbformat": 4,
 "nbformat_minor": 2
}
